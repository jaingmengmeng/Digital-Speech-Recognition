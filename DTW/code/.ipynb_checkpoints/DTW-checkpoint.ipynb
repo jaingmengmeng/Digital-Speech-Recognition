{
 "cells": [
  {
   "cell_type": "markdown",
   "metadata": {},
   "source": [
    " # Packages"
   ]
  },
  {
   "cell_type": "code",
   "execution_count": 1,
   "metadata": {},
   "outputs": [],
   "source": [
    "# -*- coding: utf-8 -*-\n",
    "import os\n",
    "import librosa\n",
    "import numpy as np\n",
    "# import wave\n",
    "# import time\n",
    "# import pyaudio\n",
    "# import seaborn\n",
    "# import IPython\n",
    "# import pylab as plt\n",
    "# import scipy.signal as signal\n",
    "# import scipy.io.wavfile as wav\n",
    "import matplotlib.pyplot as plt\n",
    "# from sys import argv\n",
    "# from matplotlib import cm\n",
    "# from scipy.fftpack import fft,ifft\n",
    "# from python_speech_features import mfcc\n",
    "# from scipy.spatial.distance import cdist"
   ]
  },
  {
   "cell_type": "markdown",
   "metadata": {},
   "source": [
    "# Read wave files and calculate MFCC"
   ]
  },
  {
   "cell_type": "code",
   "execution_count": 2,
   "metadata": {},
   "outputs": [],
   "source": [
    "def read_and_mfcc(wavepath):\n",
    "    nmfcc = 24\n",
    "    # python_speech_feature\n",
    "    #(rate,sig) = wav.read(wavepath)\n",
    "    #mfccfeat = mfcc(signal=sig, samplerate=rate, numcep=nmfcc, nfilt=26, nfft=1152)\n",
    "    # librosa\n",
    "    y, sr = librosa.load(wavepath)\n",
    "    mfccfeat = np.transpose(librosa.feature.mfcc(y=y, sr=sr, n_mfcc = nmfcc),[1,0])\n",
    "    #print(len(mfccfeat),len(mfccfeat[0]))\n",
    "    return mfccfeat"
   ]
  },
  {
   "cell_type": "markdown",
   "metadata": {},
   "source": [
    "# DTW"
   ]
  },
  {
   "cell_type": "code",
   "execution_count": 3,
   "metadata": {},
   "outputs": [],
   "source": [
    "def dist_for_Euclid(p1, p2):\n",
    "    dist = 0.0\n",
    "    elem_type = type(p1)\n",
    "    if elem_type == float or elem_type == int:\n",
    "        dist = float(abs(p1 - p2))\n",
    "    else:\n",
    "        sumval = 0.0\n",
    "        for i in range(len(p1)):\n",
    "            sumval += pow(p1[i] - p2[i], 2)\n",
    "        dist = pow(sumval, 0.5)\n",
    "    return dist\n",
    "\n",
    "def dtw(x, y, dist = dist_for_Euclid, warp=1):\n",
    "    \"\"\"\n",
    "    Computes Dynamic Time Warping (DTW) of two sequences.\n",
    "    :param array x: N1*M array\n",
    "    :param array y: N2*M array\n",
    "    :param func dist: distance used as cost measure\n",
    "    :param int warp: how many shifts are computed.\n",
    "    Returns the minimum distance, the cost matrix, the accumulated cost matrix, and the wrap path.\n",
    "    \"\"\"\n",
    "    assert len(x)\n",
    "    assert len(y)\n",
    "    r, c = len(x), len(y)\n",
    "    D0 = np.zeros((r + 1, c + 1))\n",
    "    D0[0, 1:] = np.inf\n",
    "    D0[1:, 0] = np.inf\n",
    "    D1 = D0[1:, 1:]  # view\n",
    "    for i in range(r):\n",
    "        for j in range(c):\n",
    "            D1[i, j] = dist(x[i], y[j])\n",
    "    C = D1.copy()\n",
    "    for i in range(r):\n",
    "        for j in range(c):\n",
    "            min_list = [D0[i, j]]\n",
    "            for k in range(1, warp + 1):\n",
    "                i_k = min(i + k, r - 1)\n",
    "                j_k = min(j + k, c - 1)\n",
    "                min_list += [D0[i_k, j], D0[i, j_k]]\n",
    "            D1[i, j] += min(min_list)\n",
    "    if len(x)==1:\n",
    "        path = np.zeros(len(y)), range(len(y))\n",
    "    elif len(y) == 1:\n",
    "        path = range(len(x)), np.zeros(len(x))\n",
    "    else:\n",
    "        path = _traceback(D0)\n",
    "        \n",
    "    return D1[-1, -1] / sum(D1.shape), C, D1, path\n",
    "\n",
    "\n",
    "def _traceback(D):\n",
    "    i, j = np.array(D.shape) - 2\n",
    "    p, q = [i], [j]\n",
    "    while (i > 0) or (j > 0):\n",
    "        tb = np.argmin((D[i, j], D[i, j+1], D[i+1, j]))\n",
    "        if tb == 0:\n",
    "            i -= 1\n",
    "            j -= 1\n",
    "        elif tb == 1:\n",
    "            i -= 1\n",
    "        else:  # (tb == 2):\n",
    "            j -= 1\n",
    "        p.insert(0, i)\n",
    "        q.insert(0, j)\n",
    "    return np.array(p), np.array(q)\n",
    "\n",
    "def dtw_display(s1, s2, distfunc=dist_for_Euclid):\n",
    "    val, path = dtw(s1, s2, distfunc)\n",
    "    w = len(s1)\n",
    "    h = len(s2)\n",
    "    mat = [[1] * w for i in range(h)]\n",
    "    for node in path :\n",
    "        x, y = node\n",
    "        mat[y][x] = 0\n",
    "    mat = np.array(mat)\n",
    "    plt.subplot(2, 2, 2)\n",
    "    c = plt.pcolor(mat, edgecolors='k', linewidths=4)\n",
    "    plt.title('Dynamic Time Warping (%f)' % val)\n",
    "    plt.subplot(2, 2, 1)\n",
    "    plt.plot(s2, range(len(s2)), 'g')\n",
    "    plt.subplot(2, 2, 4)\n",
    "    plt.plot(range(len(s1)), s1, 'r')\n",
    "    plt.show()"
   ]
  },
  {
   "cell_type": "markdown",
   "metadata": {},
   "source": [
    "# Train and Test Function\n",
    "### extract mfcc features from the train dataset and build a model, save it to a text file."
   ]
  },
  {
   "cell_type": "code",
   "execution_count": 4,
   "metadata": {},
   "outputs": [],
   "source": [
    "def train_each_model(dirpath, savepath, digitstr, distfun = dist_for_Euclid, standard = 0):\n",
    "    filelist = os.listdir(dirpath)\n",
    "    mfcclist = []\n",
    "    # print(filelist)\n",
    "    for i in range(len(filelist)):\n",
    "        filepath = os.path.join(dirpath,filelist[i])\n",
    "        # print(filepath)\n",
    "        if os.path.isfile(filepath):\n",
    "            (filedir,filename) = os.path.split(filepath)\n",
    "            (shotname,extension) = os.path.splitext(filename)\n",
    "            # print(shotname, extension)\n",
    "            if extension == \".wav\":\n",
    "                mfccfeat = read_and_mfcc(filepath)\n",
    "                # print(len(mfccfeat),len(mfccfeat[0]))\n",
    "                mfcclist.append(mfccfeat)        \n",
    "    # print(mfcclist[0].shape)\n",
    "    count = np.zeros(len(mfcclist[standard]))\n",
    "    sumall = np.zeros(mfcclist[standard].shape)\n",
    "    for i in range(len(mfcclist)):\n",
    "        dist, cost, acc, path = dtw(mfcclist[standard], mfcclist[i], distfun)\n",
    "        for j in range(len(path[0])):\n",
    "            count[int(path[0][j])] += 1\n",
    "            sumall[int(path[0][j])] += mfcclist[i][path[1][j]]\n",
    "    # print(count,sumall)\n",
    "    avg = np.zeros(sumall.shape)\n",
    "    for i in range(len(count)):\n",
    "        for j in range(len(sumall[i])):\n",
    "            avg[i][j] = sumall[i][j] / count[i]\n",
    "    # print(avg)\n",
    "    np.savetxt(os.path.join(savepath, digitstr + \".txt\"), avg)\n",
    "    b = np.loadtxt(os.path.join(savepath, digitstr + \".txt\"), dtype = np.float32)\n",
    "    # print(digitstr, b)\n",
    "    \n",
    "def train_all_model(traindir, savepath, distfun = dist_for_Euclid):\n",
    "    #digit_list = ['zero','one','two','three','four','five','six','seven','eight','nine']\n",
    "    digitlist = ['0', '1', '2', '3', '4', '5', '6', '7', '8', '9']\n",
    "    for i in range(len(digitlist)):\n",
    "        dirpath = os.path.join(traindir, \"digit_\" + digitlist[i])\n",
    "        if os.path.isdir(dirpath):\n",
    "            train_each_model(dirpath, savepath, digitlist[i])\n",
    "            \n",
    "def load_model(modeldir):\n",
    "    modellist = []\n",
    "    digitlist = []\n",
    "    filelist = os.listdir(modeldir)\n",
    "    for i in range(len(filelist)):\n",
    "        modelpath = os.path.join(modeldir, filelist[i])\n",
    "        # print(modelpath)\n",
    "        if os.path.isfile(modelpath):\n",
    "            (filedir, modelname) = os.path.split(modelpath)\n",
    "            (shotname, extension) = os.path.splitext(modelname)\n",
    "            # print(shotname, extension)\n",
    "            if extension == \".txt\":\n",
    "                mfcc = np.loadtxt(modelpath, dtype = np.float32)\n",
    "                modellist.append(mfcc)\n",
    "                digitlist.append(shotname)\n",
    "    return modellist, digitlist\n",
    "\n",
    "def digit_recognition(modellist, digitlist, filepath, distfun = dist_for_Euclid):\n",
    "    if os.path.isfile(filepath):\n",
    "        (filedir,filename) = os.path.split(filepath)\n",
    "        (shotname,extension) = os.path.splitext(filename)\n",
    "        # print(shotname, extension)\n",
    "        if extension == \".wav\":\n",
    "            mfccfeat = read_and_mfcc(filepath)\n",
    "            # print(len(mfccfeat),len(mfccfeat[0]))\n",
    "            mindist = np.inf\n",
    "            for i in range(len(modellist)):\n",
    "                dist, _, _, _ = dtw(modellist[i], mfccfeat)\n",
    "                # print(digitlist[i], dist)\n",
    "                if dist < mindist:\n",
    "                    mindigit = i\n",
    "                    mindist = dist\n",
    "    return digitlist[mindigit]"
   ]
  },
  {
   "cell_type": "markdown",
   "metadata": {},
   "source": [
    "# Processing\n",
    "### Train the model and save the model to a text file"
   ]
  },
  {
   "cell_type": "code",
   "execution_count": 17,
   "metadata": {},
   "outputs": [],
   "source": [
    "train_all_model(\"../../dataset/records\", \"../model3\")\n",
    "modellist, digitlist = load_model(\"../model3\")"
   ]
  },
  {
   "cell_type": "markdown",
   "metadata": {},
   "source": [
    "### Calculate accuracy via recognize the test dataset"
   ]
  },
  {
   "cell_type": "code",
   "execution_count": 18,
   "metadata": {
    "scrolled": true
   },
   "outputs": [
    {
     "name": "stdout",
     "output_type": "stream",
     "text": [
      "0 5\n",
      "0 0\n",
      "0 7\n",
      "0 5\n",
      "0 7\n",
      "1 9\n",
      "1 9\n",
      "1 9\n",
      "1 9\n",
      "1 9\n",
      "2 2\n",
      "2 7\n",
      "2 2\n",
      "2 2\n",
      "2 2\n",
      "3 9\n",
      "3 5\n",
      "3 7\n",
      "3 5\n",
      "3 2\n",
      "4 5\n",
      "4 5\n",
      "4 7\n",
      "4 5\n",
      "4 4\n",
      "5 5\n",
      "5 7\n",
      "5 5\n",
      "5 5\n",
      "5 5\n",
      "6 6\n",
      "6 6\n",
      "6 6\n",
      "6 6\n",
      "6 6\n",
      "7 5\n",
      "7 7\n",
      "7 7\n",
      "7 7\n",
      "7 7\n",
      "8 8\n",
      "8 8\n",
      "8 8\n",
      "8 8\n",
      "8 8\n",
      "9 9\n",
      "9 9\n",
      "9 9\n",
      "9 9\n",
      "9 9\n"
     ]
    }
   ],
   "source": [
    "testdir = \"../../dataset/test\"\n",
    "filelist = os.listdir(testdir)\n",
    "countall = 0\n",
    "countright = 0\n",
    "for i in range(len(filelist)):\n",
    "    filepath = os.path.join(testdir,filelist[i])\n",
    "    if os.path.isfile(filepath):\n",
    "        (filedir,filename) = os.path.split(filepath)\n",
    "        (shotname,extension) = os.path.splitext(filename)\n",
    "        # print(shotname, extension)\n",
    "        if extension == \".wav\":\n",
    "            countall += 1\n",
    "            result = digit_recognition(modellist, digitlist, filepath)\n",
    "            # print(shotname[0], result)\n",
    "            if shotname[0] == result:\n",
    "                countright += 1"
   ]
  },
  {
   "cell_type": "markdown",
   "metadata": {},
   "source": [
    "### Output the results"
   ]
  },
  {
   "cell_type": "code",
   "execution_count": 19,
   "metadata": {},
   "outputs": [
    {
     "name": "stdout",
     "output_type": "stream",
     "text": [
      "29 50 0.58\n"
     ]
    }
   ],
   "source": [
    "print(countright, countall, countright / countall)"
   ]
  },
  {
   "cell_type": "markdown",
   "metadata": {},
   "source": [
    "# Record wave files via a tkinter module"
   ]
  },
  {
   "cell_type": "code",
   "execution_count": 51,
   "metadata": {},
   "outputs": [],
   "source": [
    "from pyaudio import PyAudio,paInt16\n",
    "from datetime import datetime\n",
    "import wave\n",
    "from tkinter import *\n",
    "import sys\n",
    "import tkinter.messagebox\n",
    "\n",
    "# define of params\n",
    "NUM_SAMPLES =160\n",
    "FRAMERATE = 16000\n",
    "CHANNELS = 1\n",
    "SAMPWIDTH = 2\n",
    "FORMAT = paInt16\n",
    "TIME = 125\n",
    "FRAMESHIFT = 160\n",
    "\n",
    "def save_wave_file(filename,data):\n",
    "    '''save the date to the wav file'''\n",
    "    wf = wave.open(filename,'wb')\n",
    "    wf.setnchannels(CHANNELS)\n",
    "    wf.setsampwidth(SAMPWIDTH)\n",
    "    wf.setframerate(FRAMERATE)\n",
    "    wf.writeframes(b\"\".join(data)) # \"\"中间不能有空格，不然语音录入会有很多中断。\n",
    "    wf.close()\n",
    "\n",
    "# First cut the wave file and compute the \n",
    "def recognize(filepath):\n",
    "    cut_invalid(filepath)\n",
    "    result = digit_recognition(modellist, digitlist, filepath)\n",
    "    #result = \"8\"\n",
    "    tkinter.messagebox.showinfo('Recognition Result', \"You have spoken \"+result+\".\")\n",
    "    \n",
    "def my_button(root,label_text,button_text,button_stop,button_func,stop_func):\n",
    "    '''create label and button'''\n",
    "    info_label = Label(root,text=label_text,width=100,height=3).pack()\n",
    "    record_button = Button(root,text=button_text,command=button_func,anchor='center',width=30,height=3).pack()\n",
    "    exit_button = Button(root,text=button_stop,command=lambda:stop_func(root),anchor='center',width=30,height=3).pack()\n",
    "\n",
    "def record_wave():\n",
    "    '''record the input of wave'''\n",
    "    savedir = \"../myrecords\"\n",
    "    pa = PyAudio()\n",
    "\n",
    "    stream = pa.open(format=FORMAT,\n",
    "                     channels=CHANNELS,\n",
    "                     rate=FRAMERATE,\n",
    "                     input=True,\n",
    "                     frames_per_buffer=NUM_SAMPLES)\n",
    "\n",
    "    save_buffer = []\n",
    "    count = 0\n",
    "                        \n",
    "    while count < TIME*4:\n",
    "        string_audio_data = stream.read(NUM_SAMPLES)\n",
    "        frame = count*NUM_SAMPLES/float(FRAMESHIFT)\n",
    "        time = count*NUM_SAMPLES/float(FRAMERATE)\n",
    "        save_buffer.append(string_audio_data)\n",
    "        count += 1\n",
    "   \n",
    "    filename = datetime.now().strftime(\"%Y-%m-%d_%H_%M_%S\")+\".wav\"\n",
    "    filepath = os.path.join(savedir, filename)\n",
    "    save_wave_file(filepath, save_buffer)\n",
    "      \n",
    "    save_buffer = []\n",
    "    print (filename+\",saved.\")\n",
    "    \n",
    "    recognize(filepath)\n",
    "\n",
    "def record_stop(root):\n",
    "    # stop record the wave\n",
    "    root.destroy()\n",
    "    # sys.exit(0)\n",
    "\n",
    "def record_module():\n",
    "    root = Tk()\n",
    "    root.geometry('400x200+450+250')\n",
    "    root.title('Record a wave')\n",
    "    root.resizable(False, False)\n",
    "    my_button(root, \"Record a wave with digital speech and recognize it.\", \"Clik to record\", \"Exit record\", record_wave, record_stop)\n",
    "    root.mainloop()"
   ]
  },
  {
   "cell_type": "markdown",
   "metadata": {},
   "source": [
    "# Record a wave file with digital speech and recognize it."
   ]
  },
  {
   "cell_type": "code",
   "execution_count": 52,
   "metadata": {},
   "outputs": [
    {
     "name": "stdout",
     "output_type": "stream",
     "text": [
      "2018-11-19_17_03_06.wav,saved.\n"
     ]
    }
   ],
   "source": [
    "record_module()"
   ]
  }
 ],
 "metadata": {
  "kernelspec": {
   "display_name": "Python 3",
   "language": "python",
   "name": "python3"
  },
  "language_info": {
   "codemirror_mode": {
    "name": "ipython",
    "version": 3
   },
   "file_extension": ".py",
   "mimetype": "text/x-python",
   "name": "python",
   "nbconvert_exporter": "python",
   "pygments_lexer": "ipython3",
   "version": "3.6.4"
  }
 },
 "nbformat": 4,
 "nbformat_minor": 2
}
